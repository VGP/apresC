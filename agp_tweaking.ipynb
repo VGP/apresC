{
 "cells": [
  {
   "cell_type": "code",
   "execution_count": 1,
   "id": "f289597c-c754-46c4-b07d-b21130492b56",
   "metadata": {
    "id": "f289597c-c754-46c4-b07d-b21130492b56"
   },
   "outputs": [],
   "source": [
    "import pandas as pd"
   ]
  },
  {
   "cell_type": "code",
   "execution_count": 2,
   "id": "110ac860-4396-45fc-b673-daab50eae2e3",
   "metadata": {
    "id": "110ac860-4396-45fc-b673-daab50eae2e3"
   },
   "outputs": [],
   "source": [
    "df = pd.read_csv('mMarFla1.HiC.combined.decontam.20240513.hificovg.pretext.agp_2',\n",
    "                 sep='\\t',\n",
    "                 comment=\"#\",\n",
    "                 names = [\n",
    "                    \"Object\", \"Object_begin\", \"Object_end\", \"Part_number\",\n",
    "                    \"Component_type\", \"Component_id\", \"Component_begin\",\n",
    "                    \"Component_end\", \"Orientation\",\"mod\",\"paint\",\"hap\",\"ex1\",\"ex2\"\n",
    "                    ])"
   ]
  },
  {
   "cell_type": "code",
   "execution_count": 6,
   "id": "BjDDD8aAIojL",
   "metadata": {
    "colab": {
     "base_uri": "https://localhost:8080/",
     "height": 477
    },
    "id": "BjDDD8aAIojL",
    "outputId": "21381bff-ef9b-43e7-c753-7191e3212e19"
   },
   "outputs": [
    {
     "data": {
      "text/plain": [
       "52"
      ]
     },
     "execution_count": 6,
     "metadata": {},
     "output_type": "execute_result"
    }
   ],
   "source": [
    "len(df)"
   ]
  },
  {
   "cell_type": "code",
   "execution_count": 4,
   "id": "4e092fa8-2b79-4017-8640-ad166ee1b755",
   "metadata": {
    "id": "4e092fa8-2b79-4017-8640-ad166ee1b755"
   },
   "outputs": [],
   "source": [
    "df = df[(df['Object']=='Scaffold_1') | (df['Object']=='Scaffold_2') | (df['Object']=='Scaffold_3') | (df['Object']=='Scaffold_4')]"
   ]
  },
  {
   "cell_type": "code",
   "execution_count": 7,
   "id": "ae3c2c20-8632-40cb-92cf-340551086c7c",
   "metadata": {
    "id": "ae3c2c20-8632-40cb-92cf-340551086c7c",
    "outputId": "bf4e13b7-855a-4bff-a428-292ca647b391"
   },
   "outputs": [
    {
     "data": {
      "text/plain": [
       "52"
      ]
     },
     "execution_count": 7,
     "metadata": {},
     "output_type": "execute_result"
    }
   ],
   "source": [
    "len(df)"
   ]
  },
  {
   "cell_type": "code",
   "execution_count": 8,
   "id": "566df335-8809-4445-8f20-079012a358f4",
   "metadata": {
    "id": "566df335-8809-4445-8f20-079012a358f4"
   },
   "outputs": [],
   "source": [
    "# Concatenate\n",
    "haplotype = []\n",
    "for _, row in df.iterrows():\n",
    "    if pd.notna(row['hap']):\n",
    "        haplotype.append(f\"Super_{hap_counters[current_hap] - 1}_{current_hap}\")"
   ]
  },
  {
   "cell_type": "code",
   "execution_count": 9,
   "id": "391d6224-838d-4b4a-bdf3-2a2b5436dcec",
   "metadata": {
    "id": "391d6224-838d-4b4a-bdf3-2a2b5436dcec",
    "outputId": "c9e6277a-b34d-42a2-eb0d-3aaa0b2ef6c8"
   },
   "outputs": [
    {
     "data": {
      "text/plain": [
       "array(['Hap_1', nan, 'Hap_2', 'Unloc'], dtype=object)"
      ]
     },
     "execution_count": 9,
     "metadata": {},
     "output_type": "execute_result"
    }
   ],
   "source": [
    "df.paint.unique()"
   ]
  },
  {
   "cell_type": "code",
   "execution_count": 10,
   "id": "658f255b-26b7-49d4-a8cb-600a0f786a0f",
   "metadata": {
    "id": "658f255b-26b7-49d4-a8cb-600a0f786a0f"
   },
   "outputs": [],
   "source": [
    "# Create a new column with Super IDs\n",
    "hap_counters = {'Hap_1': 1, 'Hap_2': 1}\n",
    "unloc_counter = 1\n",
    "current_hap = None\n",
    "group_ids = []\n",
    "\n",
    "# Iterate over rows to assign groupID\n",
    "for _, row in df.iterrows():\n",
    "    if row[\"Orientation\"] == \"proximity_ligation\":\n",
    "        group_ids.append(group_id)\n",
    "        continue\n",
    "\n",
    "    paint_value = row[\"paint\"]\n",
    "\n",
    "    if paint_value in hap_counters:\n",
    "        # New group for this haplotype\n",
    "        current_hap = paint_value\n",
    "        group_id = f\"Super_{hap_counters[current_hap]}_{paint_value}\"\n",
    "        hap_counters[current_hap] += 1  # Increment the counter for the haplotype\n",
    "    elif paint_value == \"Unloc\" and current_hap:\n",
    "        # \"Unloc\" case, no increment in main hap counter\n",
    "        group_id = f\"Super_{hap_counters[current_hap] - 1}_{current_hap}_Unloc_{unloc_counter}\"\n",
    "        unloc_counter += 1  # Increment the Unloc counter within the group\n",
    "    elif current_hap:\n",
    "        # Continuation of the current group without new haplotype value\n",
    "        group_id = f\"Super_{hap_counters[current_hap] - 1}_{current_hap}\"\n",
    "        unloc_counter = 1  # Reset Unloc counter if no \"Unloc\" value\n",
    "\n",
    "    group_ids.append(group_id)\n",
    "\n",
    "# Assign the groupID column to the dataframe\n",
    "df[\"groupID\"] = group_ids"
   ]
  },
  {
   "cell_type": "code",
   "execution_count": 11,
   "id": "2040fc38-2d18-418b-8fda-dc9a86d5f3ba",
   "metadata": {
    "id": "2040fc38-2d18-418b-8fda-dc9a86d5f3ba",
    "outputId": "37d6df36-94e5-4ed2-90cd-cf0338bc7cff"
   },
   "outputs": [
    {
     "data": {
      "text/html": [
       "<div>\n",
       "<style scoped>\n",
       "    .dataframe tbody tr th:only-of-type {\n",
       "        vertical-align: middle;\n",
       "    }\n",
       "\n",
       "    .dataframe tbody tr th {\n",
       "        vertical-align: top;\n",
       "    }\n",
       "\n",
       "    .dataframe thead th {\n",
       "        text-align: right;\n",
       "    }\n",
       "</style>\n",
       "<table border=\"1\" class=\"dataframe\">\n",
       "  <thead>\n",
       "    <tr style=\"text-align: right;\">\n",
       "      <th></th>\n",
       "      <th>Object</th>\n",
       "      <th>Object_begin</th>\n",
       "      <th>Object_end</th>\n",
       "      <th>Part_number</th>\n",
       "      <th>Component_type</th>\n",
       "      <th>Component_id</th>\n",
       "      <th>Component_begin</th>\n",
       "      <th>Component_end</th>\n",
       "      <th>Orientation</th>\n",
       "      <th>mod</th>\n",
       "      <th>paint</th>\n",
       "      <th>hap</th>\n",
       "      <th>ex1</th>\n",
       "      <th>ex2</th>\n",
       "      <th>groupID</th>\n",
       "    </tr>\n",
       "  </thead>\n",
       "  <tbody>\n",
       "    <tr>\n",
       "      <th>0</th>\n",
       "      <td>Scaffold_1</td>\n",
       "      <td>1</td>\n",
       "      <td>163714215</td>\n",
       "      <td>1</td>\n",
       "      <td>W</td>\n",
       "      <td>H1.scaffold_1</td>\n",
       "      <td>1</td>\n",
       "      <td>163714215</td>\n",
       "      <td>+</td>\n",
       "      <td>Painted</td>\n",
       "      <td>Hap_1</td>\n",
       "      <td>NaN</td>\n",
       "      <td>NaN</td>\n",
       "      <td>NaN</td>\n",
       "      <td>Super_1_Hap_1</td>\n",
       "    </tr>\n",
       "    <tr>\n",
       "      <th>1</th>\n",
       "      <td>Scaffold_1</td>\n",
       "      <td>163714216</td>\n",
       "      <td>163714315</td>\n",
       "      <td>2</td>\n",
       "      <td>U</td>\n",
       "      <td>100</td>\n",
       "      <td>scaffold</td>\n",
       "      <td>yes</td>\n",
       "      <td>proximity_ligation</td>\n",
       "      <td>NaN</td>\n",
       "      <td>NaN</td>\n",
       "      <td>NaN</td>\n",
       "      <td>NaN</td>\n",
       "      <td>NaN</td>\n",
       "      <td>Super_1_Hap_1</td>\n",
       "    </tr>\n",
       "    <tr>\n",
       "      <th>2</th>\n",
       "      <td>Scaffold_1</td>\n",
       "      <td>163714316</td>\n",
       "      <td>170187104</td>\n",
       "      <td>3</td>\n",
       "      <td>W</td>\n",
       "      <td>H1.scaffold_1</td>\n",
       "      <td>163714216</td>\n",
       "      <td>170187004</td>\n",
       "      <td>-</td>\n",
       "      <td>Painted</td>\n",
       "      <td>NaN</td>\n",
       "      <td>NaN</td>\n",
       "      <td>NaN</td>\n",
       "      <td>NaN</td>\n",
       "      <td>Super_1_Hap_1</td>\n",
       "    </tr>\n",
       "    <tr>\n",
       "      <th>3</th>\n",
       "      <td>Scaffold_1</td>\n",
       "      <td>170187105</td>\n",
       "      <td>170187204</td>\n",
       "      <td>4</td>\n",
       "      <td>U</td>\n",
       "      <td>100</td>\n",
       "      <td>scaffold</td>\n",
       "      <td>yes</td>\n",
       "      <td>proximity_ligation</td>\n",
       "      <td>NaN</td>\n",
       "      <td>NaN</td>\n",
       "      <td>NaN</td>\n",
       "      <td>NaN</td>\n",
       "      <td>NaN</td>\n",
       "      <td>Super_1_Hap_1</td>\n",
       "    </tr>\n",
       "    <tr>\n",
       "      <th>4</th>\n",
       "      <td>Scaffold_1</td>\n",
       "      <td>170187205</td>\n",
       "      <td>220706538</td>\n",
       "      <td>5</td>\n",
       "      <td>W</td>\n",
       "      <td>H1.scaffold_1</td>\n",
       "      <td>170187005</td>\n",
       "      <td>220706338</td>\n",
       "      <td>+</td>\n",
       "      <td>Painted</td>\n",
       "      <td>NaN</td>\n",
       "      <td>NaN</td>\n",
       "      <td>NaN</td>\n",
       "      <td>NaN</td>\n",
       "      <td>Super_1_Hap_1</td>\n",
       "    </tr>\n",
       "  </tbody>\n",
       "</table>\n",
       "</div>"
      ],
      "text/plain": [
       "       Object  Object_begin  Object_end  Part_number Component_type  \\\n",
       "0  Scaffold_1             1   163714215            1              W   \n",
       "1  Scaffold_1     163714216   163714315            2              U   \n",
       "2  Scaffold_1     163714316   170187104            3              W   \n",
       "3  Scaffold_1     170187105   170187204            4              U   \n",
       "4  Scaffold_1     170187205   220706538            5              W   \n",
       "\n",
       "    Component_id Component_begin Component_end         Orientation      mod  \\\n",
       "0  H1.scaffold_1               1     163714215                   +  Painted   \n",
       "1            100        scaffold           yes  proximity_ligation      NaN   \n",
       "2  H1.scaffold_1       163714216     170187004                   -  Painted   \n",
       "3            100        scaffold           yes  proximity_ligation      NaN   \n",
       "4  H1.scaffold_1       170187005     220706338                   +  Painted   \n",
       "\n",
       "   paint  hap  ex1  ex2        groupID  \n",
       "0  Hap_1  NaN  NaN  NaN  Super_1_Hap_1  \n",
       "1    NaN  NaN  NaN  NaN  Super_1_Hap_1  \n",
       "2    NaN  NaN  NaN  NaN  Super_1_Hap_1  \n",
       "3    NaN  NaN  NaN  NaN  Super_1_Hap_1  \n",
       "4    NaN  NaN  NaN  NaN  Super_1_Hap_1  "
      ]
     },
     "execution_count": 11,
     "metadata": {},
     "output_type": "execute_result"
    }
   ],
   "source": [
    "df.head()"
   ]
  },
  {
   "cell_type": "code",
   "execution_count": 12,
   "id": "6qA4q1EBqHXl",
   "metadata": {
    "colab": {
     "base_uri": "https://localhost:8080/"
    },
    "id": "6qA4q1EBqHXl",
    "outputId": "4deb8235-99c5-46b5-b616-72a34c2c9341"
   },
   "outputs": [
    {
     "name": "stdout",
     "output_type": "stream",
     "text": [
      "New AGP file 'new_dummy.agp' generated.\n",
      "\n",
      "Dummy FASTA file 'dummy.fasta' generated.\n",
      "\n",
      "Contents of new_dummy.agp:\n",
      "\n",
      "# Object\tObject_Begin\tObject_End\tPart_Number\tComponent_Type\tComponent_ID\tComponent_Begin\tComponent_End\tOrientation\tComment\tExtra_info\tCol12\tCol13\tCol14\tGroup ID\n",
      "Scaffold_1\t1\t10\t1\tW\tH1.scaffold_1\t1\t10\t+\tPainted\tHap_1\tNaN\tNaN\tNaN\tSuper1_Hap_1\n",
      "Scaffold_1\t11\t20\t2\tU\t100\tscaffold\tyes\tproximity_ligation\t\t\tNaN\tNaN\tNaN\tSuper1_Hap_1\n",
      "Scaffold_1\t11\t20\t3\tW\tH1.scaffold_1\t11\t20\t-\tPainted\t\tNaN\tNaN\tNaN\tSuper1_Hap_1\n",
      "Scaffold_1\t21\t30\t4\tU\t100\tscaffold\tyes\tproximity_ligation\t\t\tNaN\tNaN\tNaN\tSuper1_Hap_1\n",
      "Scaffold_1\t21\t30\t5\tW\tH1.scaffold_1\t21\t30\t+\tPainted\t\tNaN\tNaN\tNaN\tSuper1_Hap_1\n",
      "Scaffold_2\t1\t10\t1\tW\tH2.scaffold_1\t1\t10\t+\tPainted\tHap_2\tNaN\tNaN\tNaN\tSuper1_Hap_2\n",
      "Scaffold_2\t11\t20\t2\tU\t100\tscaffold\tyes\tproximity_ligation\t\t\tNaN\tNaN\tNaN\tSuper1_Hap_2\n",
      "Scaffold_2\t21\t30\t3\tW\tH2.scaffold_1\t11\t20\t-\tPainted\t\tNaN\tNaN\tNaN\tSuper1_Hap_2\n",
      "Scaffold_2\t31\t40\t4\tU\t100\tscaffold\tyes\tproximity_ligation\t\t\tNaN\tNaN\tNaN\tSuper1_Hap_2\n",
      "Scaffold_2\t41\t50\t5\tW\tH1.scaffold_1\t21\t30\t+\tPainted\t\tNaN\tNaN\tNaN\tSuper_2_Hap_1_Unloc_1\n",
      "Scaffold_600\t1\t10\t1\tW\tH1.scaffold_1099\t1\t10\t+\n",
      "Scaffold_601\t1\t10\t1\tW\tH1.scaffold_1132\t1\t10\t+\n",
      "Scaffold_609\t1\t10\t1\tW\tH2.scaffold_542\t1\t10\t+\n",
      "\n",
      "\n",
      "Contents of dummy.fasta:\n",
      "\n",
      ">H1.scaffold_1\n",
      "AAACCCGGGGGGAAAAAAGGGGGGGGAAAAACCCCGACGACGACGACCCGGGAAACCGGGAACCCGGGGCCCCCCCCCCCCCCCCCCCCCCCCCCCCCCCCCCCCCCCCCCCCCGGGGGGGGGGGGGGGGGGGGGGGGGGGGGGGGGGGGGGGGGGGGGGGGGGGGGGGGGGGGGGGGGGGGGGGGGGGGGGGGGGGGGGGG\n",
      ">H2.scaffold_1\n",
      "GGGCCCAAAAAAAAAAACCCCCCCCCCCCCCCCCCCCCCCCCCCCCCCCCCCCCCCCCCCCCCCCCCCCCCCCCCCCAAAAAAAAAAAAAAAAAAAAAAAAAAAAAAAAAAAAAAAAAAAAAAAAAAAAAAAAAAAAAAAAAAAAAAAAAAAAAAAAAAAAAAAAAAAAAAAAAAAAAAAAAAAAAAAAAAAAA\n",
      ">H1.scaffold_1099\n",
      "AAAAAAAAAAAA\n",
      ">H1.scaffold_1132\n",
      "GGGGGGGGGG\n",
      ">H2.scaffold_542\n",
      "CCCGGGAAAAAAAAAAGCAGCAGCAGCGAGCGACGACGA\n",
      "\n"
     ]
    }
   ],
   "source": [
    "import os\n",
    "\n",
    "# -------------------------------\n",
    "# Part 1: Generate a new AGP file (new_dummy.agp)\n",
    "# -------------------------------\n",
    "\n",
    "agp_filename = \"new_dummy.agp\"\n",
    "\n",
    "with open(agp_filename, \"w\") as f:\n",
    "    # Write a header comment line with column titles (optional for clarity)\n",
    "    header_titles = \"# Object\\tObject_Begin\\tObject_End\\tPart_Number\\tComponent_Type\\tComponent_ID\\tComponent_Begin\\tComponent_End\\tOrientation\\tComment\\tExtra_info\\tCol12\\tCol13\\tCol14\\tGroup ID\"\n",
    "    f.write(header_titles + \"\\n\")\n",
    "\n",
    "    # --- Head Records (10 records) ---\n",
    "    # Define the original head records (each with 11 columns)\n",
    "    head_records = [\n",
    "        # Record 1: set col2=1, col3=10\n",
    "        [\"Scaffold_1\", \"1\", \"10\", \"1\", \"W\", \"H1.scaffold_1\", \"1\", \"10\", \"+\", \"Painted\", \"Hap_1\"],\n",
    "        # Record 2: dummy values (e.g., 11-20)\n",
    "        [\"Scaffold_1\", \"11\", \"20\", \"2\", \"U\", \"100\", \"scaffold\", \"yes\", \"proximity_ligation\", \"\", \"\"],\n",
    "        # Record 3: set col2=11, col3=20\n",
    "        [\"Scaffold_1\", \"11\", \"20\", \"3\", \"W\", \"H1.scaffold_1\", \"11\", \"20\", \"-\", \"Painted\", \"\"],\n",
    "        # Record 4: dummy values (e.g., 21-30)\n",
    "        [\"Scaffold_1\", \"21\", \"30\", \"4\", \"U\", \"100\", \"scaffold\", \"yes\", \"proximity_ligation\", \"\", \"\"],\n",
    "        # Record 5: set col2=21, col3=30\n",
    "        [\"Scaffold_1\", \"21\", \"30\", \"5\", \"W\", \"H1.scaffold_1\", \"21\", \"30\", \"+\", \"Painted\", \"\"],\n",
    "        # Record 6: set col2=1, col3=10\n",
    "        [\"Scaffold_2\", \"1\", \"10\", \"1\", \"W\", \"H2.scaffold_1\", \"1\", \"10\", \"+\", \"Painted\", \"Hap_2\"],\n",
    "        # Record 7: dummy values (e.g., 11-20)\n",
    "        [\"Scaffold_2\", \"11\", \"20\", \"2\", \"U\", \"100\", \"scaffold\", \"yes\", \"proximity_ligation\", \"\", \"\"],\n",
    "        # Record 8: dummy values (e.g., 21-30)\n",
    "        [\"Scaffold_2\", \"21\", \"30\", \"3\", \"W\", \"H2.scaffold_1\", \"11\", \"20\", \"-\", \"Painted\", \"\"],\n",
    "        # Record 9: dummy values (e.g., 31-40)\n",
    "        [\"Scaffold_2\", \"31\", \"40\", \"4\", \"U\", \"100\", \"scaffold\", \"yes\", \"proximity_ligation\", \"\", \"\"],\n",
    "        # Record 10: dummy values (e.g., 41-50)\n",
    "        [\"Scaffold_2\", \"41\", \"50\", \"5\", \"W\", \"H1.scaffold_1\", \"21\", \"30\", \"+\", \"Painted\", \"\"]\n",
    "    ]\n",
    "\n",
    "    # Define the Group ID values for head records:\n",
    "    group_ids = [\n",
    "        \"Super1_Hap_1\",   # Record 1\n",
    "        \"Super1_Hap_1\",   # Record 2\n",
    "        \"Super1_Hap_1\",   # Record 3\n",
    "        \"Super1_Hap_1\",   # Record 4\n",
    "        \"Super1_Hap_1\",   # Record 5\n",
    "        \"Super1_Hap_2\",   # Record 6\n",
    "        \"Super1_Hap_2\",   # Record 7\n",
    "        \"Super1_Hap_2\",   # Record 8\n",
    "        \"Super1_Hap_2\",   # Record 9\n",
    "        \"Super_2_Hap_1_Unloc_1\"  # Record 10\n",
    "    ]\n",
    "\n",
    "    # For each head record, pad with 3 \"NaN\" values (columns 12, 13, 14) and then add the Group ID as the 15th column.\n",
    "    for i, rec in enumerate(head_records):\n",
    "        padded_record = rec + [\"NaN\", \"NaN\", \"NaN\"] + [group_ids[i]]\n",
    "        f.write(\"\\t\".join(padded_record) + \"\\n\")\n",
    "\n",
    "    # --- Tail Records (3 records) ---\n",
    "    # Tail records remain unchanged.\n",
    "    tail_records = [\n",
    "        \"Scaffold_600\\t1\\t10\\t1\\tW\\tH1.scaffold_1099\\t1\\t10\\t+\",\n",
    "        \"Scaffold_601\\t1\\t10\\t1\\tW\\tH1.scaffold_1132\\t1\\t10\\t+\",\n",
    "        \"Scaffold_609\\t1\\t10\\t1\\tW\\tH2.scaffold_542\\t1\\t10\\t+\"\n",
    "    ]\n",
    "\n",
    "    for rec in tail_records:\n",
    "        f.write(rec + \"\\n\")\n",
    "\n",
    "print(f\"New AGP file '{agp_filename}' generated.\\n\")\n",
    "\n",
    "# -------------------------------\n",
    "# Part 2: Generate a dummy FASTA file (dummy.fasta)\n",
    "# -------------------------------\n",
    "\n",
    "fasta_filename = \"dummy.fasta\"\n",
    "with open(fasta_filename, \"w\") as f:\n",
    "    f.write(\">H1.scaffold_1\\n\")\n",
    "    f.write(\"AAACCCGGGGGGAAAAAAGGGGGGGGAAAAACCCCGACGACGACGACCCGGGAAACCGGGAACCCGGGGCCCCCCCCCCCCCCCCCCCCCCCCCCCCCCCCCCCCCCCCCCCCCGGGGGGGGGGGGGGGGGGGGGGGGGGGGGGGGGGGGGGGGGGGGGGGGGGGGGGGGGGGGGGGGGGGGGGGGGGGGGGGGGGGGGGGG\\n\")\n",
    "\n",
    "    f.write(\">H2.scaffold_1\\n\")\n",
    "    f.write(\"GGGCCCAAAAAAAAAAACCCCCCCCCCCCCCCCCCCCCCCCCCCCCCCCCCCCCCCCCCCCCCCCCCCCCCCCCCCCAAAAAAAAAAAAAAAAAAAAAAAAAAAAAAAAAAAAAAAAAAAAAAAAAAAAAAAAAAAAAAAAAAAAAAAAAAAAAAAAAAAAAAAAAAAAAAAAAAAAAAAAAAAAAAAAAAAAA\\n\")\n",
    "\n",
    "    f.write(\">H1.scaffold_1099\\n\")\n",
    "    f.write(\"A\" * 12 + \"\\n\")\n",
    "\n",
    "    f.write(\">H1.scaffold_1132\\n\")\n",
    "    f.write(\"G\" * 10 + \"\\n\")\n",
    "\n",
    "    f.write(\">H2.scaffold_542\\n\")\n",
    "    f.write(\"CCCGGGAAAAAAAAAAGCAGCAGCAGCGAGCGACGACGA\" + \"\\n\")\n",
    "\n",
    "print(f\"Dummy FASTA file '{fasta_filename}' generated.\\n\")\n",
    "\n",
    "# -------------------------------\n",
    "# Part 3: Print contents of both files\n",
    "# -------------------------------\n",
    "\n",
    "print(\"Contents of new_dummy.agp:\\n\")\n",
    "with open(agp_filename, \"r\") as f:\n",
    "    print(f.read())\n",
    "\n",
    "print(\"\\nContents of dummy.fasta:\\n\")\n",
    "with open(fasta_filename, \"r\") as f:\n",
    "    print(f.read())\n"
   ]
  },
  {
   "cell_type": "code",
   "execution_count": 13,
   "id": "LQgu0yhsIV9E",
   "metadata": {
    "id": "LQgu0yhsIV9E"
   },
   "outputs": [],
   "source": [
    "import pandas as pd\n",
    "df = pd.read_csv('new_dummy.agp',\n",
    "                 sep='\\t',\n",
    "                 comment=\"#\",\n",
    "                 names = [\n",
    "                    \"Object\", \"Object_begin\", \"Object_end\", \"Part_number\",\n",
    "                    \"Component_type\", \"Component_id\", \"Component_begin\",\n",
    "                    \"Component_end\", \"Orientation\",\"mod\",\"paint\",\"hap\",\"ex1\",\"ex2\",\"Group_ID\"\n",
    "                    ])\n"
   ]
  },
  {
   "cell_type": "code",
   "execution_count": 14,
   "id": "ANC1oNw6zsUn",
   "metadata": {
    "colab": {
     "base_uri": "https://localhost:8080/"
    },
    "id": "ANC1oNw6zsUn",
    "outputId": "5ad7bbf0-d22a-47fe-be77-22a9847e83fe"
   },
   "outputs": [
    {
     "name": "stdout",
     "output_type": "stream",
     "text": [
      "Contents of Hap_1.fasta:\n",
      "\n",
      ">Super1\n",
      "AAACCCGGGGNNNNNNNNNNNNNNNNNNNNNNNNNNNNNNNNNNNNNNNNNNNNNNNNNNNNNNNNNNNNNNNNNNNNNNNNNNNNNNNNNNNNNNNNNNNNNNNNNNNNGGGAAAAAAGNNNNNNNNNNNNNNNNNNNNNNNNNNNNNNNNNNNNNNNNNNNNNNNNNNNNNNNNNNNNNNNNNNNNNNNNNNNNNNNNNNNNNNNNNNNNNNNNNNNNGGGGGGAAAA\n",
      ">Super_2_Unloc_1\n",
      "GGGGGGAAAA\n",
      "H1.scaffold_1099\n",
      "AAAAAAAAAA\n",
      "H1.scaffold_1132\n",
      "GGGGGGGGGG\n",
      "\n",
      "Contents of Hap_2.fasta:\n",
      "\n",
      ">Super1\n",
      "GGGCCCAAAANNNNNNNNNNNNNNNNNNNNNNNNNNNNNNNNNNNNNNNNNNNNNNNNNNNNNNNNNNNNNNNNNNNNNNNNNNNNNNNNNNNNNNNNNNNNNNNNNNNNCCCCAAAAAANNNNNNNNNNNNNNNNNNNNNNNNNNNNNNNNNNNNNNNNNNNNNNNNNNNNNNNNNNNNNNNNNNNNNNNNNNNNNNNNNNNNNNNNNNNNNNNNNNNN\n",
      "H2.scaffold_542\n",
      "CCCGGGAAAA\n"
     ]
    },
    {
     "name": "stderr",
     "output_type": "stream",
     "text": [
      "/tmp/ipykernel_160496/1078711554.py:32: FutureWarning: Series.__getitem__ treating keys as positions is deprecated. In a future version, integer keys will always be treated as labels (consistent with DataFrame behavior). To access a value by position, use `ser.iloc[pos]`\n",
      "  rec_key = str(row[5]).strip()\n",
      "/tmp/ipykernel_160496/1078711554.py:47: FutureWarning: Series.__getitem__ treating keys as positions is deprecated. In a future version, integer keys will always be treated as labels (consistent with DataFrame behavior). To access a value by position, use `ser.iloc[pos]`\n",
      "  start_idx = int(row[6])\n",
      "/tmp/ipykernel_160496/1078711554.py:48: FutureWarning: Series.__getitem__ treating keys as positions is deprecated. In a future version, integer keys will always be treated as labels (consistent with DataFrame behavior). To access a value by position, use `ser.iloc[pos]`\n",
      "  end_idx = int(row[7])\n",
      "/tmp/ipykernel_160496/1078711554.py:52: FutureWarning: Series.__getitem__ treating keys as positions is deprecated. In a future version, integer keys will always be treated as labels (consistent with DataFrame behavior). To access a value by position, use `ser.iloc[pos]`\n",
      "  sign = str(row[8]).strip()\n",
      "/tmp/ipykernel_160496/1078711554.py:63: FutureWarning: Series.__getitem__ treating keys as positions is deprecated. In a future version, integer keys will always be treated as labels (consistent with DataFrame behavior). To access a value by position, use `ser.iloc[pos]`\n",
      "  if len(row) > 14 and pd.notna(row[14])and header != str(row[14]) :\n",
      "/tmp/ipykernel_160496/1078711554.py:64: FutureWarning: Series.__getitem__ treating keys as positions is deprecated. In a future version, integer keys will always be treated as labels (consistent with DataFrame behavior). To access a value by position, use `ser.iloc[pos]`\n",
      "  header = str(row[14])\n",
      "/tmp/ipykernel_160496/1078711554.py:78: FutureWarning: Series.__getitem__ treating keys as positions is deprecated. In a future version, integer keys will always be treated as labels (consistent with DataFrame behavior). To access a value by position, use `ser.iloc[pos]`\n",
      "  elif header == str(row[14]) and rec_key!='100':\n",
      "/tmp/ipykernel_160496/1078711554.py:81: FutureWarning: Series.__getitem__ treating keys as positions is deprecated. In a future version, integer keys will always be treated as labels (consistent with DataFrame behavior). To access a value by position, use `ser.iloc[pos]`\n",
      "  elif pd.isna(row[14]):\n",
      "/tmp/ipykernel_160496/1078711554.py:84: FutureWarning: Series.__getitem__ treating keys as positions is deprecated. In a future version, integer keys will always be treated as labels (consistent with DataFrame behavior). To access a value by position, use `ser.iloc[pos]`\n",
      "  outf.write(str(row[5]))\n"
     ]
    }
   ],
   "source": [
    "import os\n",
    "import pandas as pd\n",
    "from Bio import SeqIO\n",
    "\n",
    "# Create output folders if they don't exist.\n",
    "os.makedirs(\"hap_1\", exist_ok=True)\n",
    "os.makedirs(\"hap_2\", exist_ok=True)\n",
    "\n",
    "# Load the FASTA file as a dictionary.\n",
    "fasta_file = \"dummy.fasta\"  # your FASTA file name\n",
    "fasta_dict = SeqIO.to_dict(SeqIO.parse(fasta_file, \"fasta\"))\n",
    "\n",
    "# Assume your DataFrame is loaded as df.\n",
    "# For example:\n",
    "# df = pd.read_csv(\"data.csv\", header=None)\n",
    "\n",
    "# Fixed output file names.\n",
    "output_file_h1 = os.path.join(\"hap_1\", \"Hap_1.fasta\")\n",
    "output_file_h2 = os.path.join(\"hap_2\", \"Hap_2.fasta\")\n",
    "\n",
    "# Create empty output files.\n",
    "open(output_file_h1, \"w\").close()\n",
    "open(output_file_h2, \"w\").close()\n",
    "\n",
    "# We'll track the last header written for each output file.\n",
    "#last_header = {\"hap_1\": None, \"hap_2\": None}\n",
    "header=None\n",
    "# Process each row.\n",
    "for idx, row in df.iterrows():\n",
    "    # --- Decide output file based solely on row[5] ---\n",
    "    # Use row[5].strip() to remove leading/trailing spaces.\n",
    "    rec_key = str(row[5]).strip()\n",
    "\n",
    "    # Decide output file: if rec_key contains \"H2\", use hap_2; if it contains \"H1\", use hap_1.\n",
    "    if \"H2\" in rec_key:\n",
    "        current_path = output_file_h2\n",
    "        record = fasta_dict.get(rec_key)\n",
    "    elif \"H1\" in rec_key:\n",
    "        current_path = output_file_h1\n",
    "        record = fasta_dict.get(rec_key)\n",
    "    else:\n",
    "        with open(current_path, \"a\") as outf:\n",
    "            outf.write(\"N\" * 100)\n",
    "\n",
    "\n",
    "    try:\n",
    "        start_idx = int(row[6])\n",
    "        end_idx = int(row[7])\n",
    "    except:\n",
    "        continue\n",
    "\n",
    "    sign = str(row[8]).strip()\n",
    "    if sign == '+':\n",
    "        seq_str = str(record.seq[start_idx - 1: end_idx])\n",
    "    elif sign == '-':\n",
    "        seq_str = str(record.seq[end_idx: start_idx-1:-1])\n",
    "    else:\n",
    "        print(f\"Unrecognized strand '{sign}' on row {idx}.\")\n",
    "        continue\n",
    "\n",
    "\n",
    "    # --- Determine header from row[14] (if provided) ---\n",
    "    if len(row) > 14 and pd.notna(row[14])and header != str(row[14]) :\n",
    "      header = str(row[14])\n",
    "      # Remove the substring if present.\n",
    "      if \"_Hap_1\" in header:\n",
    "        with open(current_path, \"a\") as outf:\n",
    "          outf.write(\"\\n\")\n",
    "          processed_header = header.replace(\"_Hap_1\", \"\")\n",
    "          outf.write(f\">{processed_header}\\n\")\n",
    "          outf.write(seq_str)\n",
    "      elif \"_Hap_2\" in header:\n",
    "        with open(current_path, \"a\") as outf:\n",
    "          outf.write(\"\\n\")\n",
    "          processed_header = header.replace(\"_Hap_2\", \"\")\n",
    "          outf.write(f\">{processed_header}\\n\")\n",
    "          outf.write(seq_str)\n",
    "    elif header == str(row[14]) and rec_key!='100':\n",
    "      with open(current_path, \"a\") as outf:\n",
    "        outf.write(seq_str)\n",
    "    elif pd.isna(row[14]):\n",
    "      with open(current_path, \"a\") as outf:\n",
    "        outf.write(\"\\n\")\n",
    "        outf.write(str(row[5]))\n",
    "        outf.write(\"\\n\")\n",
    "        outf.write(seq_str)\n",
    "\n",
    "\n",
    "# Print contents.\n",
    "print(\"Contents of Hap_1.fasta:\")\n",
    "with open(output_file_h1, \"r\") as f:\n",
    "    print(f.read())\n",
    "\n",
    "print(\"\\nContents of Hap_2.fasta:\")\n",
    "with open(output_file_h2, \"r\") as f:\n",
    "    print(f.read())\n",
    "\n",
    "\n",
    "\n"
   ]
  },
  {
   "cell_type": "code",
   "execution_count": null,
   "id": "HK5OZLFnOeLb",
   "metadata": {
    "colab": {
     "base_uri": "https://localhost:8080/",
     "height": 477
    },
    "id": "HK5OZLFnOeLb",
    "outputId": "24b37119-2e24-4fd2-ced3-107df7f9e889"
   },
   "outputs": [],
   "source": [
    "df"
   ]
  }
 ],
 "metadata": {
  "colab": {
   "provenance": []
  },
  "kernelspec": {
   "display_name": "Python 3 (ipykernel)",
   "language": "python",
   "name": "python3"
  },
  "language_info": {
   "codemirror_mode": {
    "name": "ipython",
    "version": 3
   },
   "file_extension": ".py",
   "mimetype": "text/x-python",
   "name": "python",
   "nbconvert_exporter": "python",
   "pygments_lexer": "ipython3",
   "version": "3.12.9"
  }
 },
 "nbformat": 4,
 "nbformat_minor": 5
}
